{
  "nbformat": 4,
  "nbformat_minor": 0,
  "metadata": {
    "colab": {
      "provenance": [],
      "authorship_tag": "ABX9TyMNc0OgxoAuivOuRSU+2PoV",
      "include_colab_link": true
    },
    "kernelspec": {
      "name": "python3",
      "display_name": "Python 3"
    },
    "language_info": {
      "name": "python"
    }
  },
  "cells": [
    {
      "cell_type": "markdown",
      "metadata": {
        "id": "view-in-github",
        "colab_type": "text"
      },
      "source": [
        "<a href=\"https://colab.research.google.com/github/KavyaJhamb/Introduction_to_python/blob/main/RA2211042010010_ipymb.ipynb\" target=\"_parent\"><img src=\"https://colab.research.google.com/assets/colab-badge.svg\" alt=\"Open In Colab\"/></a>"
      ]
    },
    {
      "cell_type": "code",
      "execution_count": null,
      "metadata": {
        "colab": {
          "base_uri": "https://localhost:8080/"
        },
        "id": "pKcKCm7pHQPR",
        "outputId": "a8db6153-331e-40f9-e09a-ecc658a39245"
      },
      "outputs": [
        {
          "output_type": "stream",
          "name": "stdout",
          "text": [
            "Black sheep\n"
          ]
        }
      ],
      "source": [
        "print(\"Black sheep\")"
      ]
    },
    {
      "cell_type": "code",
      "source": [
        ">>> 3.8- + 4"
      ],
      "metadata": {
        "colab": {
          "base_uri": "https://localhost:8080/"
        },
        "id": "6uTWvoe2Hy-G",
        "outputId": "b3c0bcfa-84c3-448c-ac12-b9c774f93831"
      },
      "execution_count": null,
      "outputs": [
        {
          "output_type": "execute_result",
          "data": {
            "text/plain": [
              "-0.20000000000000018"
            ]
          },
          "metadata": {},
          "execution_count": 2
        }
      ]
    },
    {
      "cell_type": "code",
      "source": [
        ">>> 365/12"
      ],
      "metadata": {
        "colab": {
          "base_uri": "https://localhost:8080/"
        },
        "id": "U1HEx1hzH5i5",
        "outputId": "bbbca718-9ce0-430a-dee0-ad6a8c7e13d5"
      },
      "execution_count": null,
      "outputs": [
        {
          "output_type": "execute_result",
          "data": {
            "text/plain": [
              "30.416666666666668"
            ]
          },
          "metadata": {},
          "execution_count": 3
        }
      ]
    },
    {
      "cell_type": "code",
      "source": [
        ">>> 5.6%3.2"
      ],
      "metadata": {
        "colab": {
          "base_uri": "https://localhost:8080/"
        },
        "id": "yKQARFIyIAHa",
        "outputId": "95ee1f31-7f44-4009-c3c0-9be7ca8a87ee"
      },
      "execution_count": null,
      "outputs": [
        {
          "output_type": "execute_result",
          "data": {
            "text/plain": [
              "2.3999999999999995"
            ]
          },
          "metadata": {},
          "execution_count": 4
        }
      ]
    },
    {
      "cell_type": "code",
      "source": [
        ">>> 1j * 1j"
      ],
      "metadata": {
        "colab": {
          "base_uri": "https://localhost:8080/"
        },
        "id": "EGjssZ7YIEoh",
        "outputId": "d0437453-0f5b-4324-8223-64870d1dcb69"
      },
      "execution_count": null,
      "outputs": [
        {
          "output_type": "execute_result",
          "data": {
            "text/plain": [
              "(-1+0j)"
            ]
          },
          "metadata": {},
          "execution_count": 5
        }
      ]
    },
    {
      "cell_type": "code",
      "source": [
        ">>> 'hot' + 'dog'"
      ],
      "metadata": {
        "colab": {
          "base_uri": "https://localhost:8080/",
          "height": 37
        },
        "id": "iZLy1nc2IRGB",
        "outputId": "e100f63f-81a8-404d-a897-4cea95836035"
      },
      "execution_count": null,
      "outputs": [
        {
          "output_type": "execute_result",
          "data": {
            "text/plain": [
              "'hotdog'"
            ],
            "application/vnd.google.colaboratory.intrinsic+json": {
              "type": "string"
            }
          },
          "metadata": {},
          "execution_count": 6
        }
      ]
    },
    {
      "cell_type": "code",
      "source": [
        ">>> 10*'dog'"
      ],
      "metadata": {
        "colab": {
          "base_uri": "https://localhost:8080/",
          "height": 37
        },
        "id": "JmKbZoocJev1",
        "outputId": "7e2b2bef-7046-49ef-dae3-536d49eda180"
      },
      "execution_count": null,
      "outputs": [
        {
          "output_type": "execute_result",
          "data": {
            "text/plain": [
              "'dogdogdogdogdogdogdogdogdogdog'"
            ],
            "application/vnd.google.colaboratory.intrinsic+json": {
              "type": "string"
            }
          },
          "metadata": {},
          "execution_count": 8
        }
      ]
    },
    {
      "cell_type": "code",
      "source": [
        ">>> float('3')"
      ],
      "metadata": {
        "colab": {
          "base_uri": "https://localhost:8080/"
        },
        "id": "4Brk7OqKJ8hU",
        "outputId": "5084c75e-c013-48aa-b39a-240dc2ba2860"
      },
      "execution_count": null,
      "outputs": [
        {
          "output_type": "execute_result",
          "data": {
            "text/plain": [
              "3.0"
            ]
          },
          "metadata": {},
          "execution_count": 11
        }
      ]
    },
    {
      "cell_type": "code",
      "source": [
        ">>> fruit = \"mango\"\n",
        ">>> fruit"
      ],
      "metadata": {
        "id": "R-Urys_eKvbn",
        "colab": {
          "base_uri": "https://localhost:8080/",
          "height": 37
        },
        "outputId": "2f5626ff-3da1-40b1-f1a1-d2432d6d88c0"
      },
      "execution_count": null,
      "outputs": [
        {
          "output_type": "execute_result",
          "data": {
            "text/plain": [
              "'mango'"
            ],
            "application/vnd.google.colaboratory.intrinsic+json": {
              "type": "string"
            }
          },
          "metadata": {},
          "execution_count": 24
        }
      ]
    },
    {
      "cell_type": "code",
      "source": [
        ">>> cost = 0.29\n",
        ">>> 0.1*cost"
      ],
      "metadata": {
        "colab": {
          "base_uri": "https://localhost:8080/"
        },
        "id": "kQdcvyFGLRIq",
        "outputId": "734af0c3-d5ac-4e11-ac6f-872dd3b01460"
      },
      "execution_count": null,
      "outputs": [
        {
          "output_type": "execute_result",
          "data": {
            "text/plain": [
              "0.028999999999999998"
            ]
          },
          "metadata": {},
          "execution_count": 23
        }
      ]
    },
    {
      "cell_type": "code",
      "source": [
        ">>> cost = 58\n",
        ">>> 1.5 * cost + 6"
      ],
      "metadata": {
        "colab": {
          "base_uri": "https://localhost:8080/"
        },
        "id": "Vgg6y_prLw9B",
        "outputId": "78a528f5-c43b-40f4-e5e1-5a9d82c81255"
      },
      "execution_count": null,
      "outputs": [
        {
          "output_type": "execute_result",
          "data": {
            "text/plain": [
              "93.0"
            ]
          },
          "metadata": {},
          "execution_count": 25
        }
      ]
    },
    {
      "cell_type": "code",
      "source": [
        ">>> y = 'car'\n",
        ">>> y"
      ],
      "metadata": {
        "colab": {
          "base_uri": "https://localhost:8080/",
          "height": 37
        },
        "id": "xRT1Dxn_L9c3",
        "outputId": "62d3883f-7dff-4b8e-b0dc-fe844f0dd4f7"
      },
      "execution_count": null,
      "outputs": [
        {
          "output_type": "execute_result",
          "data": {
            "text/plain": [
              "'car'"
            ],
            "application/vnd.google.colaboratory.intrinsic+json": {
              "type": "string"
            }
          },
          "metadata": {},
          "execution_count": 26
        }
      ]
    },
    {
      "cell_type": "code",
      "source": [
        ">>> y=89\n",
        ">>> (2*y)+ (6.8 * y * y)"
      ],
      "metadata": {
        "colab": {
          "base_uri": "https://localhost:8080/"
        },
        "id": "mVvdNmxdMZOX",
        "outputId": "d5f89f41-f903-4ad4-acf1-1193b3be516c"
      },
      "execution_count": null,
      "outputs": [
        {
          "output_type": "execute_result",
          "data": {
            "text/plain": [
              "54040.799999999996"
            ]
          },
          "metadata": {},
          "execution_count": 28
        }
      ]
    },
    {
      "cell_type": "code",
      "source": [
        ">>> s = 'apple'\n",
        ">>> s + 's'"
      ],
      "metadata": {
        "colab": {
          "base_uri": "https://localhost:8080/",
          "height": 37
        },
        "id": "t7c7ZCcWM0UC",
        "outputId": "25036178-73a0-4341-ae0b-bf0892e2e3f4"
      },
      "execution_count": null,
      "outputs": [
        {
          "output_type": "execute_result",
          "data": {
            "text/plain": [
              "'apples'"
            ],
            "application/vnd.google.colaboratory.intrinsic+json": {
              "type": "string"
            }
          },
          "metadata": {},
          "execution_count": 29
        }
      ]
    },
    {
      "cell_type": "code",
      "source": [
        ">>> x,y,z = 1, 'two', 3.0\n",
        ">>> x,y,z"
      ],
      "metadata": {
        "colab": {
          "base_uri": "https://localhost:8080/"
        },
        "id": "-2fMYGw8M_dE",
        "outputId": "488a9430-c6de-4d38-e212-9c49f17c4479"
      },
      "execution_count": null,
      "outputs": [
        {
          "output_type": "execute_result",
          "data": {
            "text/plain": [
              "(1, 'two', 3.0)"
            ]
          },
          "metadata": {},
          "execution_count": 33
        }
      ]
    },
    {
      "cell_type": "code",
      "source": [
        ">>> a,b = 5,9\n",
        ">>> a,b = b,a \n",
        ">>> a,b "
      ],
      "metadata": {
        "colab": {
          "base_uri": "https://localhost:8080/"
        },
        "id": "zOwBJfiSNeql",
        "outputId": "90309a5b-7dce-4c98-8eab-d7654de3d771"
      },
      "execution_count": null,
      "outputs": [
        {
          "output_type": "execute_result",
          "data": {
            "text/plain": [
              "(9, 5)"
            ]
          },
          "metadata": {},
          "execution_count": 35
        }
      ]
    },
    {
      "cell_type": "code",
      "source": [
        ">>> print('jack', 'ate', 'no', 'fat')"
      ],
      "metadata": {
        "colab": {
          "base_uri": "https://localhost:8080/"
        },
        "id": "Y1hmxbNhOZT8",
        "outputId": "f2286c48-ff68-4cc5-fbfc-1bfec747a285"
      },
      "execution_count": null,
      "outputs": [
        {
          "output_type": "stream",
          "name": "stdout",
          "text": [
            "jack ate no fat\n"
          ]
        }
      ]
    },
    {
      "cell_type": "code",
      "source": [
        ">>> principal = int(2000)\n",
        ">>> rate = int(2)\n",
        ">>> time = int(4)\n",
        ">>> simple_interest = (principal * rate * time)/100\n",
        ">>> simple_interest"
      ],
      "metadata": {
        "colab": {
          "base_uri": "https://localhost:8080/"
        },
        "id": "naj7e6yCOtvX",
        "outputId": "8a282477-6511-4f24-8010-7cbba9925e9f"
      },
      "execution_count": null,
      "outputs": [
        {
          "output_type": "execute_result",
          "data": {
            "text/plain": [
              "160.0"
            ]
          },
          "metadata": {},
          "execution_count": 42
        }
      ]
    },
    {
      "cell_type": "code",
      "source": [
        ">>> side_of_square = int(34)\n",
        ">>> area_of_square = side_of_square*side_of_square\n",
        ">>> area_of_square"
      ],
      "metadata": {
        "colab": {
          "base_uri": "https://localhost:8080/"
        },
        "id": "pn8JL7qZQFAc",
        "outputId": "947abaa3-01bb-4873-9272-c91e50fcbfb4"
      },
      "execution_count": null,
      "outputs": [
        {
          "output_type": "execute_result",
          "data": {
            "text/plain": [
              "1156"
            ]
          },
          "metadata": {},
          "execution_count": 54
        }
      ]
    },
    {
      "cell_type": "code",
      "source": [
        "counter = 100          \n",
        "miles   = 1000.0      \n",
        "name    = \"John\"       \n",
        "\n",
        "print (counter)\n",
        "print (miles)\n",
        "print (name)"
      ],
      "metadata": {
        "colab": {
          "base_uri": "https://localhost:8080/"
        },
        "id": "0qcAaVbQTsdJ",
        "outputId": "c408362e-7084-4acc-c64d-ab91a82e7974"
      },
      "execution_count": null,
      "outputs": [
        {
          "output_type": "stream",
          "name": "stdout",
          "text": [
            "100\n",
            "1000.0\n",
            "John\n"
          ]
        }
      ]
    },
    {
      "cell_type": "code",
      "source": [
        "x = 5\n",
        "2 * x + 1\n"
      ],
      "metadata": {
        "colab": {
          "base_uri": "https://localhost:8080/"
        },
        "id": "Hk6sPgxASCEE",
        "outputId": "12047f88-f060-49bf-8f2a-a477703d9daa"
      },
      "execution_count": 75,
      "outputs": [
        {
          "output_type": "execute_result",
          "data": {
            "text/plain": [
              "11"
            ]
          },
          "metadata": {},
          "execution_count": 75
        }
      ]
    },
    {
      "cell_type": "code",
      "source": [
        " a ,b = 5,9\n",
        " temp = a\n",
        " a = b\n",
        " b = temp\n",
        " a,b"
      ],
      "metadata": {
        "colab": {
          "base_uri": "https://localhost:8080/"
        },
        "id": "Ag8L7jguSgGw",
        "outputId": "e87d5b7e-cd1c-4f08-9f9c-9663695b1198"
      },
      "execution_count": 77,
      "outputs": [
        {
          "output_type": "execute_result",
          "data": {
            "text/plain": [
              "(9, 5)"
            ]
          },
          "metadata": {},
          "execution_count": 77
        }
      ]
    },
    {
      "cell_type": "code",
      "source": [],
      "metadata": {
        "id": "aGOOHAcXYcfV"
      },
      "execution_count": null,
      "outputs": []
    },
    {
      "cell_type": "code",
      "source": [
        "x=60\n"
      ],
      "metadata": {
        "id": "cxP6w3g1Yhjq"
      },
      "execution_count": null,
      "outputs": []
    },
    {
      "cell_type": "code",
      "source": [
        ">>> b = 4\n",
        ">>> a = 5\n",
        ">>> c = -10\n",
        ">>> D = b*b-4*a*c\n",
        ">>> D"
      ],
      "metadata": {
        "colab": {
          "base_uri": "https://localhost:8080/"
        },
        "id": "bxcx9PIvU0yv",
        "outputId": "5acb4182-8338-499c-fb58-344a1fc40760"
      },
      "execution_count": 68,
      "outputs": [
        {
          "output_type": "execute_result",
          "data": {
            "text/plain": [
              "216"
            ]
          },
          "metadata": {},
          "execution_count": 68
        }
      ]
    },
    {
      "cell_type": "code",
      "source": [
        "site_name = 'programiz.pro'\n",
        "print(site_name)\n",
        "site_name = 'apple.com'\n",
        "print(site_name)"
      ],
      "metadata": {
        "colab": {
          "base_uri": "https://localhost:8080/"
        },
        "id": "vZ2b9EQuW6vd",
        "outputId": "2fa47d9b-46f7-47e6-b522-93d8a617e2fa"
      },
      "execution_count": 66,
      "outputs": [
        {
          "output_type": "stream",
          "name": "stdout",
          "text": [
            "programiz.pro\n",
            "apple.com\n"
          ]
        }
      ]
    },
    {
      "cell_type": "code",
      "source": [
        "value = None\n",
        "print(value)\n"
      ],
      "metadata": {
        "colab": {
          "base_uri": "https://localhost:8080/"
        },
        "id": "H0twiqX0XvNV",
        "outputId": "30fd910b-29e4-4c84-9e0b-e4d30417abaf"
      },
      "execution_count": 73,
      "outputs": [
        {
          "output_type": "stream",
          "name": "stdout",
          "text": [
            "None\n"
          ]
        }
      ]
    },
    {
      "cell_type": "code",
      "source": [
        "a = 5\n",
        "b =2\n",
        "print (a > b)   "
      ],
      "metadata": {
        "colab": {
          "base_uri": "https://localhost:8080/"
        },
        "id": "ooTf7qcEXynS",
        "outputId": "e244b3af-73e2-46e8-f8bd-a748da655572"
      },
      "execution_count": 74,
      "outputs": [
        {
          "output_type": "stream",
          "name": "stdout",
          "text": [
            "True\n"
          ]
        }
      ]
    }
  ]
}